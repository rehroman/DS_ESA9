{
 "cells": [
  {
   "cell_type": "markdown",
   "id": "186190b5-3c7f-47e3-a87f-0ea2cc1aad78",
   "metadata": {},
   "source": [
    "# Excercise 2: Logistic Regression"
   ]
  },
  {
   "cell_type": "code",
   "execution_count": 1,
   "id": "2db2b142-fbc7-4a1b-bfc2-2ac3bf19d103",
   "metadata": {},
   "outputs": [],
   "source": [
    "import numpy as np\n",
    "from sklearn.linear_model import LogisticRegression\n",
    "from sklearn.datasets import load_iris"
   ]
  },
  {
   "cell_type": "markdown",
   "id": "838987cb-ad70-4004-b697-0eba197e2717",
   "metadata": {},
   "source": [
    "Erstmal Datenset erkunden:"
   ]
  },
  {
   "cell_type": "code",
   "execution_count": 2,
   "id": "5cbe82bf-892b-4bf1-9b1c-b030a4125928",
   "metadata": {},
   "outputs": [
    {
     "data": {
      "text/plain": [
       "['data',\n",
       " 'target',\n",
       " 'frame',\n",
       " 'target_names',\n",
       " 'DESCR',\n",
       " 'feature_names',\n",
       " 'filename']"
      ]
     },
     "execution_count": 2,
     "metadata": {},
     "output_type": "execute_result"
    }
   ],
   "source": [
    "iris = load_iris()\n",
    "list(iris.keys())"
   ]
  },
  {
   "cell_type": "code",
   "execution_count": 3,
   "id": "c2dac347-3912-44cd-adf2-16f7759be099",
   "metadata": {},
   "outputs": [
    {
     "data": {
      "text/plain": [
       "['sepal length (cm)',\n",
       " 'sepal width (cm)',\n",
       " 'petal length (cm)',\n",
       " 'petal width (cm)']"
      ]
     },
     "execution_count": 3,
     "metadata": {},
     "output_type": "execute_result"
    }
   ],
   "source": [
    "list(iris[\"feature_names\"])"
   ]
  },
  {
   "cell_type": "code",
   "execution_count": 4,
   "id": "9cbe9853-f3c3-4b6c-9f9a-80b032db48e2",
   "metadata": {},
   "outputs": [],
   "source": [
    "#X = iris[\"data\"][:, (2, 3)]  # petal length, petal width\n",
    "#y = (iris[\"target\"] == 2).astype(np.int) # 1 bei Iris-Virginica"
   ]
  },
  {
   "cell_type": "markdown",
   "id": "adb0c45d-27e5-4b1b-87ab-321a2b2384b7",
   "metadata": {},
   "source": [
    "Zuordnen der unabhängigen Variablen zu X und der abhängigen (die rauszufindende Klasse) zu Y:"
   ]
  },
  {
   "cell_type": "code",
   "execution_count": 5,
   "id": "b209fb60-b8a7-43fb-82f8-55236fd454bf",
   "metadata": {},
   "outputs": [],
   "source": [
    "X = iris.data\n",
    "Y = iris.target"
   ]
  },
  {
   "cell_type": "markdown",
   "id": "6b051a20-f684-4bc0-8ddc-d552402418dd",
   "metadata": {},
   "source": [
    "Als nächstes Trainieren des Models:"
   ]
  },
  {
   "cell_type": "code",
   "execution_count": 6,
   "id": "d47d31ee-508b-4cf2-b5fd-bde5ede37746",
   "metadata": {},
   "outputs": [
    {
     "data": {
      "text/plain": [
       "LogisticRegression(C=100, max_iter=200, random_state=0)"
      ]
     },
     "execution_count": 6,
     "metadata": {},
     "output_type": "execute_result"
    }
   ],
   "source": [
    "log_reg = LogisticRegression(C=10*10, random_state = 0, max_iter=200)\n",
    "log_reg.fit(X,Y)"
   ]
  },
  {
   "cell_type": "markdown",
   "id": "eeef3cfc-bada-4878-b83a-ded8a846e47d",
   "metadata": {},
   "source": [
    "Schließlich das Vorhersagen bereits mit allen genutzten Features:"
   ]
  },
  {
   "cell_type": "code",
   "execution_count": 7,
   "id": "521c0052-5012-49a7-b09d-265f6beea7e8",
   "metadata": {},
   "outputs": [
    {
     "name": "stdout",
     "output_type": "stream",
     "text": [
      "[[1.24391740e-14 5.67392076e-08 9.99999943e-01]]\n"
     ]
    }
   ],
   "source": [
    "pred_values = np.array([4.8,2.5,5.3,2.4]).reshape(1,-1)\n",
    "pred_y_proba = log_reg.predict_proba(pred_values)\n",
    "print(pred_y_proba)"
   ]
  },
  {
   "cell_type": "markdown",
   "id": "79b12c00-4e1e-4e7e-b610-5992d5371e7a",
   "metadata": {},
   "source": [
    "Wahrscheinlichkeit und Festlegung der Klasse mithilfe vom argmax"
   ]
  },
  {
   "cell_type": "code",
   "execution_count": 8,
   "id": "9795275c-2db6-4807-ba06-a90f2c45a641",
   "metadata": {},
   "outputs": [
    {
     "name": "stdout",
     "output_type": "stream",
     "text": [
      "Vorhergesagte Klasse = 2 und Wahrscheinlichkeit = 99.999994326078 %\n"
     ]
    }
   ],
   "source": [
    "pred_class_id = pred_y_proba.argmax(1).item()\n",
    "class_pred_prob = pred_y_proba[0,pred_class_id]*100\n",
    "print(f'Vorhergesagte Klasse = {pred_class_id} und Wahrscheinlichkeit = {class_pred_prob} %')"
   ]
  },
  {
   "cell_type": "markdown",
   "id": "f54dad24-99a4-4d1c-8423-7ac62aa0f323",
   "metadata": {},
   "source": [
    "Also handelt es sich um bei sehr hoher Wahrscheinlichekit um eine Iris Virginica."
   ]
  }
 ],
 "metadata": {
  "kernelspec": {
   "display_name": "Python 3 (ipykernel)",
   "language": "python",
   "name": "python3"
  },
  "language_info": {
   "codemirror_mode": {
    "name": "ipython",
    "version": 3
   },
   "file_extension": ".py",
   "mimetype": "text/x-python",
   "name": "python",
   "nbconvert_exporter": "python",
   "pygments_lexer": "ipython3",
   "version": "3.9.7"
  }
 },
 "nbformat": 4,
 "nbformat_minor": 5
}
